{
 "cells": [
  {
   "cell_type": "markdown",
   "metadata": {},
   "source": [
    "# Reporte y Analisis de Modelo"
   ]
  },
  {
   "cell_type": "markdown",
   "metadata": {},
   "source": [
    "## Introduccion\n",
    "Es este analisis se observaran los resultados obtenidos de la implementacion de modelos realizados en el documento ***momento-retro2.ipynb***. Se hara un analisis del modelo de *LogisticRegression* ya que fue el modelo que obtuvo el mejor desempeño entre los modelos elegidos para la implementacion. En este reporte analizaremos a detalle caracteristicas como la **varianza** y el **sesgo** de nuestro modelo asi como ver si existe una mejora en el modelo tras ajustar los parametros del mismo"
   ]
  },
  {
   "cell_type": "markdown",
   "metadata": {},
   "source": [
    "## Analisis inicial"
   ]
  },
  {
   "cell_type": "markdown",
   "metadata": {},
   "source": [
    "### Setup\n",
    "Iniciemos por crear nuestro ambiente de trabajo e implementendo nuestro dataframe con nuestra dataset *Estatura-peso_HyM.csv*."
   ]
  },
  {
   "cell_type": "code",
   "execution_count": 2,
   "metadata": {},
   "outputs": [],
   "source": [
    "# Uso general\n",
    "import pandas as pd\n",
    "import numpy as np\n",
    "import matplotlib.pyplot as plt\n",
    "import warnings\n",
    "\n",
    "# Sklearn\n",
    "from sklearn.linear_model import LogisticRegression\n",
    "from sklearn.preprocessing import StandardScaler, normalize\n",
    "from sklearn.model_selection import train_test_split\n",
    "from sklearn.metrics import accuracy_score, confusion_matrix\n",
    "from sklearn.model_selection import GridSearchCV\n",
    "\n",
    "# Mlxtend\n",
    "from mlxtend.evaluate import bias_variance_decomp\n",
    "\n",
    "# Seaborn\n",
    "import seaborn as sns\n",
    "\n",
    "warnings.filterwarnings(\"ignore\")\n",
    "\n",
    "# Lectura de csv y creacion de dataframe\n",
    "data = pd.read_csv(\"Estatura-peso_HyM.csv\")\n",
    "\n",
    "# Division de informacion por sexo\n",
    "dataH = data.loc[:, [\"H_estat\", \"H_peso\"]]\n",
    "dataH.columns = [\"Estatura\", \"Peso\"]\n",
    "dataM = data.loc[:, [\"M_estat\", \"M_peso\"]]\n",
    "dataM.columns = [\"Estatura\", \"Peso\"]\n",
    "\n",
    "# Identificadores de sexo: 0 = Hombre, 1 = Mujer\n",
    "dataH[\"Sexo\"] = 0\n",
    "dataM[\"Sexo\"] = 1\n",
    "\n",
    "# Union de ambos dataframes\n",
    "df = pd.concat([dataH, dataM])"
   ]
  },
  {
   "cell_type": "markdown",
   "metadata": {},
   "source": [
    "### Entrenamiento\n",
    "Ahora entrenemos nuestro modelo como lo hicimos anteriormente para obtener un resultado de referencia. Entrenaremos el modelo con con un train-test split de 70 - 30 para entrenar y probar el modelo respectivamente."
   ]
  },
  {
   "cell_type": "code",
   "execution_count": 3,
   "metadata": {},
   "outputs": [
    {
     "name": "stdout",
     "output_type": "stream",
     "text": [
      "Logistic Regression Train: 88.64%\n",
      "Logistic Regression Test: 91.67%\n"
     ]
    },
    {
     "data": {
      "image/png": "[encoded data removed]",
      "text/plain": [
       "<Figure size 432x288 with 2 Axes>"
      ]
     },
     "metadata": {
      "needs_background": "light"
     },
     "output_type": "display_data"
    }
   ],
   "source": [
    "s = StandardScaler()\n",
    "\n",
    "# Separacion de variable dependiente y variables independiantes\n",
    "x = s.fit_transform(df.drop(columns=\"Sexo\", axis=1))\n",
    "y = df.Sexo.values\n",
    "\n",
    "# Creacion de datos de entrenamiento y prueba\n",
    "x_train, x_test, y_train, y_test = train_test_split(x, y, test_size=0.3, random_state=42)\n",
    "\n",
    "model = LogisticRegression(random_state=42)\n",
    "\n",
    "model.fit(x_train, y_train)\n",
    "y_pred = model.predict(x_test)\n",
    "print(f\"Logistic Regression Train: {accuracy_score(y_train, model.predict(x_train))*100:.2f}%\")\n",
    "print(f\"Logistic Regression Test: {accuracy_score(y_test, y_pred)*100:.2f}%\")\n",
    "cm = confusion_matrix(y_test, y_pred)\n",
    "\n",
    "ax = sns.heatmap(cm, annot=True, cmap='Blues')\n",
    "\n",
    "ax.set_title('Entrenamiento - Parametros Base\\n');\n",
    "ax.set_xlabel('\\nPredicted Values')\n",
    "ax.set_ylabel('Actual Values ');\n",
    "\n",
    "ax.xaxis.set_ticklabels(['False','True'])\n",
    "ax.yaxis.set_ticklabels(['False','True'])\n",
    "\n",
    "plt.show()"
   ]
  },
  {
   "cell_type": "markdown",
   "metadata": {},
   "source": [
    "Como podemos observar obtenemos los mismos resultados que se obtuvieron en la implementacion de modelos, con esto podemos comenzar el analisis del modelos teniendo de referencia una **R^2** de 91.67%."
   ]
  },
  {
   "cell_type": "markdown",
   "metadata": {},
   "source": [
    "### Varianza y Sesgo"
   ]
  },
  {
   "cell_type": "code",
   "execution_count": 4,
   "metadata": {},
   "outputs": [
    {
     "name": "stdout",
     "output_type": "stream",
     "text": [
      "Average bias: 0.083\n",
      "Average variance: 0.014\n"
     ]
    }
   ],
   "source": [
    "avg_expected_loss, avg_bias, avg_var = bias_variance_decomp(\n",
    "    model, x_train, y_train, x_test, y_test, \n",
    "    loss='0-1_loss',\n",
    "    random_seed=42)\n",
    "\n",
    "print('Average bias: %.3f' % avg_bias)\n",
    "print('Average variance: %.3f' % avg_var)\n",
    "\n"
   ]
  },
  {
   "cell_type": "markdown",
   "metadata": {},
   "source": [
    "### Predicciones\n",
    "Las siguinetes predicciones seran con datos fuera del dataset original. Los datos estan basados en la tabla del IMC utilizando estaturas y pesos de ambos sexos. La distribucion de las respuestas seran un hombre y una mujer sucesivamente."
   ]
  },
  {
   "cell_type": "code",
   "execution_count": 5,
   "metadata": {},
   "outputs": [
    {
     "name": "stdout",
     "output_type": "stream",
     "text": [
      "Prediccion 1 con datos de prediccion: [1.68, 66.21]\n",
      "-    Resultado Esperado: 0  Resultado Real: 0\n",
      "Prediccion 2 con datos de prediccion: [1.68, 61.83]\n",
      "-    Resultado Esperado: 1  Resultado Real: 1\n",
      "Prediccion 3 con datos de prediccion: [1.78, 73.36]\n",
      "-    Resultado Esperado: 0  Resultado Real: 0\n",
      "Prediccion 4 con datos de prediccion: [1.78, 64.0]\n",
      "-    Resultado Esperado: 1  Resultado Real: 1\n",
      "Prediccion 5 con datos de prediccion: [1.65, 58.33]\n",
      "-    Resultado Esperado: 0  Resultado Real: 1\n",
      "Prediccion 6 con datos de prediccion: [1.65, 52.12]\n",
      "-    Resultado Esperado: 1  Resultado Real: 1\n",
      "Prediccion 7 con datos de prediccion: [1.73, 66.63]\n",
      "-    Resultado Esperado: 0  Resultado Real: 0\n",
      "Prediccion 8 con datos de prediccion: [1.73, 59.42]\n",
      "-    Resultado Esperado: 1  Resultado Real: 1\n",
      "Prediccion 9 con datos de prediccion: [1.65, 65.87]\n",
      "-    Resultado Esperado: 0  Resultado Real: 0\n",
      "Prediccion 10 con datos de prediccion: [1.65, 59.52]\n",
      "-    Resultado Esperado: 1  Resultado Real: 1\n",
      "\n",
      "Logistic Regression: 90.00%\n"
     ]
    },
    {
     "data": {
      "image/png": "[encoded data removed]",
      "text/plain": [
       "<Figure size 432x288 with 2 Axes>"
      ]
     },
     "metadata": {
      "needs_background": "light"
     },
     "output_type": "display_data"
    }
   ],
   "source": [
    "predicciones = {\"AyP\": [[1.68, 66.21],\n",
    "                        [1.68, 61.83],\n",
    "                        [1.78, 73.36],\n",
    "                        [1.78, 64.0],\n",
    "                        [1.65, 58.33],\n",
    "                        [1.65, 52.12],\n",
    "                        [1.73, 66.63],\n",
    "                        [1.73, 59.42],\n",
    "                        [1.65, 65.87],\n",
    "                        [1.65, 59.52]],\n",
    "                \"Sexo\":[0, 1, 0, 1, 0, 1, 0, 1, 0, 1]}\n",
    "\n",
    "prediccionesDF = pd.DataFrame(predicciones)\n",
    "\n",
    "result_pred = []\n",
    "\n",
    "for caso in prediccionesDF[\"AyP\"]:\n",
    "    x = s.transform([caso])\n",
    "    result_pred.append(model.predict(x)[0])\n",
    "\n",
    "for i in range(len(prediccionesDF)):\n",
    "    print(f\"Prediccion {i + 1} con datos de prediccion: {prediccionesDF['AyP'][i]}\")\n",
    "    print(f\"-    Resultado Esperado: {prediccionesDF['Sexo'][i]}  Resultado Real: {result_pred[i]}\")\n",
    "\n",
    "print()\n",
    "print(f\"Logistic Regression: {accuracy_score(prediccionesDF['Sexo'], result_pred)*100:.2f}%\")\n",
    "\n",
    "cm = confusion_matrix(prediccionesDF[\"Sexo\"], result_pred)\n",
    "\n",
    "ax = sns.heatmap(cm, annot=True, cmap='Blues')\n",
    "\n",
    "ax.set_title('10 Predicciones - Parametros Base\\n');\n",
    "ax.set_xlabel('\\nPredicted Values')\n",
    "ax.set_ylabel('Actual Values ');\n",
    "\n",
    "ax.xaxis.set_ticklabels(['False','True'])\n",
    "ax.yaxis.set_ticklabels(['False','True'])\n",
    "\n",
    "plt.show()"
   ]
  },
  {
   "cell_type": "markdown",
   "metadata": {},
   "source": [
    "Empezando con el analisis de nuestro modelo base, podemos ver que tenemos valores relativamente bajos de sesgo y especialmente de varianza. El sesgo es el valor que mas destaca porque apesar de que no es un valor tan alto, puede ser el causante de confusiones en el modelo. Tambien podemos observar que nuestro modelo esta relaivamente bien ajustado ya que el **test score** es mayor a **train score** aunque esto se puede deber a los parametros por defecto del modelo y se comprobara mas adelante. Podemos comparar los resultados hechos con una prueba de 10 predicciones con datos fuera de nuestro data set. Sabemos que el modelo tiene una precision del **91.67%** y haciendo la prueba con 10 predicciones obtenemos una precision de **90%**. Se puede observar que hay una ligera confusion al clasificar con hombres de baja estatura. Tomando todo esto en cuenta podemos concluir que tenemos una base solida para comezar un ajuste de parametros."
   ]
  },
  {
   "cell_type": "markdown",
   "metadata": {},
   "source": [
    "## Ajuste de parametros"
   ]
  },
  {
   "cell_type": "markdown",
   "metadata": {},
   "source": [
    "### Tamaño de sets de prueba y entrenamiento\n",
    "Se realizara un analisis de los resultados del modelo cambiando cada vez el tamaño del train-test en intervalos de **10%**, es decir comenzando en 10 - 90 hasta terminar en 90-10."
   ]
  },
  {
   "cell_type": "code",
   "execution_count": 6,
   "metadata": {},
   "outputs": [
    {
     "data": {
      "text/plain": [
       "<matplotlib.legend.Legend at 0x1a60dbe55b0>"
      ]
     },
     "execution_count": 6,
     "metadata": {},
     "output_type": "execute_result"
    },
    {
     "data": {
      "image/png": "[encoded data removed]",
      "text/plain": [
       "<Figure size 720x720 with 2 Axes>"
      ]
     },
     "metadata": {
      "needs_background": "light"
     },
     "output_type": "display_data"
    }
   ],
   "source": [
    "train_score = []\n",
    "test_score = []\n",
    "bias = []\n",
    "variance = []\n",
    "\n",
    "intervalos = [0.1, 0.2, 0.3, 0.4, 0.5, 0.6, 0.7, 0.8, 0.9]\n",
    "\n",
    "x = s.fit_transform(df.drop(columns=\"Sexo\", axis=1))\n",
    "y = df.Sexo.values\n",
    "\n",
    "for i in intervalos:\n",
    "    x_train, x_test, y_train, y_test = train_test_split(x, y, test_size=i, random_state=42)\n",
    "    model.fit(x_train, y_train)\n",
    "    train_score.append(accuracy_score(y_train, model.predict(x_train)))\n",
    "    test_score.append(accuracy_score(y_test, model.predict(x_test)))\n",
    "    avg_e_loss, avg_bias, avg_var = bias_variance_decomp(\n",
    "        model, x_train, y_train, x_test, y_test,\n",
    "        loss=\"0-1_loss\",\n",
    "        random_seed=42)\n",
    "    bias.append(avg_bias)\n",
    "    variance.append(avg_var)\n",
    "\n",
    "figure, axis = plt.subplots(2)\n",
    "figure.set_size_inches(10,10)\n",
    "axis[0].plot(intervalos, train_score, label = \"Train Score\")\n",
    "axis[0].plot(intervalos, test_score, label = \"Test Score\")\n",
    "axis[0].set_title(\"Precision del modelo por tamaño de set prueba\")\n",
    "axis[0].legend()\n",
    "\n",
    "axis[1].plot(intervalos, bias, label = \"Sesgo\")\n",
    "axis[1].plot(intervalos, variance, label = \"Varianza\")\n",
    "axis[1].set_title(\"Cambio de Sesgo y Varianza del modelo por tamaño de set prueba\")\n",
    "axis[1].legend()"
   ]
  },
  {
   "cell_type": "markdown",
   "metadata": {},
   "source": [
    "Con este ajuste podemos observar que obtenemos una mejor precision entre mas grande hagamos nuestro set de entrenamiento. Se tiene un descenso semi escalonado entre valores hasta llegar a valores cercanos al **70%** en donde la precision disminuye con cada porcion que quitemos. Asi mismo entre mas datos tenga el modelo para entrenar, el sesgo y la variaza disminuyen. La disminucion de la variaza es relativamente constante pero el sesgo tiene un pico de variacion a partir del **40%** hasta el **60%** en donde disminuye su aumento pero luego drasticamente aumenta."
   ]
  },
  {
   "cell_type": "code",
   "execution_count": 7,
   "metadata": {},
   "outputs": [
    {
     "name": "stdout",
     "output_type": "stream",
     "text": [
      "Logistic Regression Train: 88.64%\n",
      "Logistic Regression Test: 93.18%\n"
     ]
    },
    {
     "data": {
      "image/png": "[encoded data removed]",
      "text/plain": [
       "<Figure size 432x288 with 2 Axes>"
      ]
     },
     "metadata": {
      "needs_background": "light"
     },
     "output_type": "display_data"
    }
   ],
   "source": [
    "x = s.fit_transform(df.drop(columns=\"Sexo\", axis=1))\n",
    "y = df.Sexo.values\n",
    "\n",
    "# Creacion de datos de entrenamiento y prueba\n",
    "x_train, x_test, y_train, y_test = train_test_split(x, y, test_size=0.1, random_state=42)\n",
    "\n",
    "model = LogisticRegression(random_state=42)\n",
    "\n",
    "model.fit(x_train, y_train)\n",
    "y_pred = model.predict(x_test)\n",
    "print(f\"Logistic Regression Train: {accuracy_score(y_train, model.predict(x_train))*100:.2f}%\")\n",
    "print(f\"Logistic Regression Test: {accuracy_score(y_test, y_pred)*100:.2f}%\")\n",
    "cm = confusion_matrix(y_test, y_pred)\n",
    "\n",
    "ax = sns.heatmap(cm, annot=True, cmap='Blues')\n",
    "\n",
    "ax.set_title('Entrenamiento - Parametros Base\\n');\n",
    "ax.set_xlabel('\\nPredicted Values')\n",
    "ax.set_ylabel('Actual Values ');\n",
    "\n",
    "ax.xaxis.set_ticklabels(['False','True'])\n",
    "ax.yaxis.set_ticklabels(['False','True'])\n",
    "\n",
    "plt.show()"
   ]
  },
  {
   "cell_type": "code",
   "execution_count": 8,
   "metadata": {},
   "outputs": [
    {
     "name": "stdout",
     "output_type": "stream",
     "text": [
      "Average bias: 0.068\n",
      "Average variance: 0.007\n"
     ]
    }
   ],
   "source": [
    "avg_expected_loss, avg_bias, avg_var = bias_variance_decomp(\n",
    "    model, x_train, y_train, x_test, y_test, \n",
    "    loss='0-1_loss',\n",
    "    random_seed=42)\n",
    "\n",
    "print('Average bias: %.3f' % avg_bias)\n",
    "print('Average variance: %.3f' % avg_var)"
   ]
  },
  {
   "cell_type": "markdown",
   "metadata": {},
   "source": [
    "### Random State\n",
    "El random state genera una semilla que ayuda al modelo a generar un split deterministico, es decir siempre igual. La ultima prueba que se hara es revisar si podemos obtener una mejor puntuacion cambiando el random state."
   ]
  },
  {
   "cell_type": "code",
   "execution_count": 9,
   "metadata": {},
   "outputs": [
    {
     "name": "stdout",
     "output_type": "stream",
     "text": [
      "{'random_state': 1}\n",
      "Logistic Regression Test: 93.18%\n"
     ]
    }
   ],
   "source": [
    "params = {\n",
    "      \"random_state\": list(range(1,1000))\n",
    "}\n",
    "\n",
    "rng = GridSearchCV(\n",
    "      estimator=model,\n",
    "      param_grid=params\n",
    ")\n",
    "\n",
    "rng.fit(x_train, y_train)\n",
    "print(rng.best_params_)\n",
    "\n",
    "model_2 = LogisticRegression(random_state=1)\n",
    "model_2.fit(x_train, y_train)\n",
    "y_pred_2 = model_2.predict(x_test)\n",
    "print(f\"Logistic Regression Test: {accuracy_score(y_test, y_pred_2)*100:.2f}%\")"
   ]
  },
  {
   "cell_type": "markdown",
   "metadata": {},
   "source": [
    "Haciendo una busqueda con un **GridSearch** nos arroja que el mejor parametro es el **random_state=1** pero el resultado sigue siendo el mismo debido a que el modelo no utiliza dicho parametro."
   ]
  },
  {
   "cell_type": "markdown",
   "metadata": {},
   "source": [
    "## Conclusiones\n",
    "Tras hacer el ajuste de parametros se logro un inclemento del **1.51%** subiendo a **93.18%** de **91.67%** un incremento pequeño pero bienvenido. Asi mismo con este cambio de parametros se obtuvo una mejor varianza y sesgo, reduciendo la varianza a casi **0** llendo de **0.014** a **0.007** y el sesgo de **0.083** a **0.068**. Estas mejoras ayudan a que el modelo tenga un mejor desepmeño aunque aun existen mejoras que ayudarian al modelo a alcanzar mejores resultados entre ellas destaca la confusion que aun existe para clasificar correctamente a hombres de baja estatura sin sobre peso. Hablando mas en especifico del sesgo y varianza, concluimos con que el modelo tiene varianza baja y a pesar de que el bias parece bajo, es suficiente para crear la confusion anteriormente mencionada.\n",
    "\n",
    "Tambien podemos ver que el modelo no presenta overffiting ni underffiting ya que al tratar datos fuera del modelo puede clasificarlos sin problema. Los datos que se usaron para las pruebas de prediccion se escogieron de para probar que tan preciso puede ser el modelo con datos cercanos, la estatura en cada par de datos es la misma y basado en el peso puede clasificar el sexo aunque como se menciono anterior mente aun se puede mejorar."
   ]
  }
 ],
 "metadata": {
  "kernelspec": {
   "display_name": "Python 3.9.9 64-bit",
   "language": "python",
   "name": "python3"
  },
  "language_info": {
   "codemirror_mode": {
    "name": "ipython",
    "version": 3
   },
   "file_extension": ".py",
   "mimetype": "text/x-python",
   "name": "python",
   "nbconvert_exporter": "python",
   "pygments_lexer": "ipython3",
   "version": "3.9.9"
  },
  "orig_nbformat": 4,
  "vscode": {
   "interpreter": {
    "hash": "d5c53819254f5134ae0d57518e7457f435c9aa64aaa2566b3978989478f2f856"
   }
  }
 },
 "nbformat": 4,
 "nbformat_minor": 2
}
