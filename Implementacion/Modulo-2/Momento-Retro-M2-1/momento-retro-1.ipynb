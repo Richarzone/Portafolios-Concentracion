{
 "cells": [
  {
   "cell_type": "markdown",
   "metadata": {},
   "source": [
    "# Momento de Retroalimentación 1: Módulo 2\n",
    "\n",
    "### Ricardo Andres Arriaga Quezada A01570553"
   ]
  },
  {
   "cell_type": "markdown",
   "metadata": {},
   "source": [
    "## Setup"
   ]
  },
  {
   "cell_type": "code",
   "execution_count": 2,
   "metadata": {},
   "outputs": [],
   "source": [
    "import numpy as np\n",
    "import pandas as pd\n",
    "import matplotlib.pyplot as plt\n",
    "import math as m\n",
    "from sklearn.metrics import accuracy_score, confusion_matrix\n",
    "from sklearn.model_selection import train_test_split"
   ]
  },
  {
   "cell_type": "markdown",
   "metadata": {},
   "source": [
    "## Creacion de dataframes para regresion logistica"
   ]
  },
  {
   "cell_type": "markdown",
   "metadata": {},
   "source": [
    "Se utilizara un dataset que describe el peso y la estatura de hombres y mujeres. La idea sera clasificar por sexo segun ambas variables, los sexos se clasificaran de la siguiente manera:\n",
    "* Hombres = 0\n",
    "* Mujeres = 1"
   ]
  },
  {
   "cell_type": "code",
   "execution_count": 6,
   "metadata": {},
   "outputs": [],
   "source": [
    "data = pd.read_csv(\"Estatura-peso_HyM.csv\")\n",
    "\n",
    "dataH = data.loc[:, [\"H_estat\", \"H_peso\"]]\n",
    "dataH.columns = [\"Estatura\", \"Peso\"]\n",
    "dataM = data.loc[:, [\"M_estat\", \"M_peso\"]]\n",
    "dataM.columns = [\"Estatura\", \"Peso\"]\n",
    "\n",
    "# Identificadores de sexo: 0 = Hombre, 1 = Mujer\n",
    "dataH[\"Sexo\"] = 0\n",
    "dataM[\"Sexo\"] = 1\n",
    "\n",
    "# Union de ambos dataframes\n",
    "df = pd.concat([dataH, dataM])\n",
    "\n",
    "sex = df[\"Sexo\"].unique().tolist()\n",
    "n = len(sex)"
   ]
  },
  {
   "cell_type": "markdown",
   "metadata": {},
   "source": [
    "## Entrenamiento del modelo"
   ]
  },
  {
   "cell_type": "code",
   "execution_count": 20,
   "metadata": {},
   "outputs": [
    {
     "data": {
      "text/plain": [
       "array([[ 1.11234627e-04,  1.08469836e-04, -1.28574904e-03],\n",
       "       [-9.80971069e-05, -2.18742152e-04, -1.24672003e-02]])"
      ]
     },
     "execution_count": 20,
     "metadata": {},
     "output_type": "execute_result"
    }
   ],
   "source": [
    "X = df.drop(columns = [\"Sexo\"], axis = 1)\n",
    "y = df.Sexo.values\n",
    "X_train, X_test, y_train, y_test = train_test_split(X, y)\n",
    "\n",
    "alpha = 0.000001\n",
    "iters = 500\n",
    "thetas = np.full((n, 3), 0.0001)\n",
    "h = lambda x, theta, x1: 1/(1+m.exp(-(theta[0] + theta[1]*x + theta[2]*x1)))\n",
    "\n",
    "n_train = len(y_train)\n",
    "\n",
    "for k in range(n):\n",
    "    for idx in range(iters):\n",
    "        acumDelta = {\n",
    "                    \"x_\" : [],\n",
    "                    \"x\" : [],\n",
    "                    \"x1\" : []\n",
    "                    }\n",
    "        for (i_row, X), y in zip(X_train.iterrows(), y_train):\n",
    "            if y != (k+1):\n",
    "                y = 0\n",
    "            else:\n",
    "                y = 1\n",
    "                \n",
    "            acumDelta['x_'].append(h(X.Estatura, thetas[k], X.Peso) - y)\n",
    "            acumDelta['x'].append((h(X.Estatura, thetas[k], X.Peso) - y) * X.Estatura)\n",
    "            acumDelta['x1'].append((h(X.Estatura, thetas[k], X.Peso) - y) * X.Peso)\n",
    "\n",
    "        sJt_ = sum(acumDelta['x_'])\n",
    "        sJt0 = sum(acumDelta['x'])\n",
    "        sJt1 = sum(acumDelta['x1'])\n",
    "\n",
    "        thetas[k][0] = thetas[k][0] - alpha/n_train*sJt_\n",
    "        thetas[k][1] = thetas[k][1] - alpha/n_train*sJt0\n",
    "        thetas[k][2] = thetas[k][2] - alpha/n_train*sJt1\n",
    "\n",
    "thetas"
   ]
  },
  {
   "cell_type": "markdown",
   "metadata": {},
   "source": [
    "## Validacion de modelo"
   ]
  },
  {
   "cell_type": "code",
   "execution_count": 22,
   "metadata": {},
   "outputs": [
    {
     "name": "stdout",
     "output_type": "stream",
     "text": [
      "Valores Reales\n",
      "[1 0 1 1 0 0 1 0 1 1 1 1 0 1 0 0 0 0 0 0 0 0 1 0 1 0 1 1 1 1 0 1 0 0 0 1 1\n",
      " 1 1 0 1 0 1 0 0 0 1 0 0 0 0 0 0 0 1 0 0 0 0 0 1 0 0 0 0 0 0 1 1 1 0 0 1 1\n",
      " 0 0 0 0 1 0 1 0 0 1 1 1 1 1 1 0 1 0 1 0 1 1 1 1 1 1 1 1 1 0 0 0 1 0 1 0]\n",
      "\n",
      "[0.48098564157993945, 0.3227879490073581]\n",
      "[0.47751531835929, 0.2940287269464349]\n",
      "[0.4856862211548777, 0.3639017704153682]\n",
      "[0.4822260239230957, 0.333427054379329]\n",
      "[0.47517651738583455, 0.27549337550568354]\n",
      "[0.4810945023150224, 0.3237157178200097]\n",
      "[0.48337567804310266, 0.3434189358947516]\n",
      "[0.47568690965682897, 0.27946662737853584]\n",
      "[0.48422609037705056, 0.35087311548447564]\n",
      "[0.48192321762392604, 0.33079605979250526]\n",
      "[0.4857892683395918, 0.36482524351247614]\n",
      "[0.4862683777987509, 0.36913954157604684]\n",
      "[0.47745170252987, 0.29351050781689275]\n",
      "[0.4816974657389753, 0.3288356370636314]\n",
      "[0.4763365725179696, 0.2845934126878312]\n",
      "[0.48131919051954103, 0.32562920671416534]\n",
      "[0.47772866578029816, 0.29573689045832313]\n",
      "[0.4773418649870277, 0.2926024202300299]\n",
      "[0.47698364910576124, 0.28974986626609905]\n",
      "[0.4776944208413358, 0.29548093688027016]\n",
      "[0.47414202416527, 0.26752716764368534]\n",
      "[0.47582746848851615, 0.2805734471788469]\n",
      "[0.47939837937257124, 0.3094456049482609]\n",
      "[0.4748585479568452, 0.27303755364309384]\n",
      "[0.4782403443693174, 0.2999111059776245]\n",
      "[0.476701391091773, 0.28749728118386036]\n",
      "[0.4810942711938359, 0.32368315733258485]\n",
      "[0.4845011724251925, 0.35332100995020854]\n",
      "[0.483531153342435, 0.3447670709386823]\n",
      "[0.48427584388002676, 0.3513305686265604]\n",
      "[0.4749360394307207, 0.27363098891859167]\n",
      "[0.4835755641064064, 0.345162458977307]\n",
      "[0.4752849968341088, 0.2763411154321673]\n",
      "[0.4745988488975424, 0.2710377360540797]\n",
      "[0.47685588936231565, 0.2887237704750467]\n",
      "[0.4855283055080872, 0.36248988248354563]\n",
      "[0.4861535612998905, 0.36809344028940666]\n",
      "[0.4842996768028789, 0.3515269882177247]\n",
      "[0.4810720339136159, 0.32352469149531454]\n",
      "[0.47658886292784824, 0.2866047231181448]\n",
      "[0.4822517461282806, 0.3336152084353624]\n",
      "[0.47617219756572277, 0.2833019758318377]\n",
      "[0.4795179225670422, 0.31043078408356667]\n",
      "[0.48109075096519444, 0.32368938246100104]\n",
      "[0.47480056538873405, 0.27259278807261506]\n",
      "[0.4739951016282507, 0.2664040193539138]\n",
      "[0.4872146354488296, 0.3777118363804124]\n",
      "[0.4752112474405494, 0.27576805893481765]\n",
      "[0.4766177289367686, 0.2868341947329444]\n",
      "[0.4744275774538194, 0.2697363590474217]\n",
      "[0.47406748055482306, 0.26696693023088236]\n",
      "[0.4775858919992703, 0.29459838409806854]\n",
      "[0.4766543627433307, 0.28711257053996864]\n",
      "[0.4775348362538921, 0.29418357004070617]\n",
      "[0.47845398975982906, 0.3016383811097522]\n",
      "[0.47522727982554325, 0.27589257381966686]\n",
      "[0.47320521846248864, 0.26045543134924026]\n",
      "[0.47668214676705056, 0.2873440767254628]\n",
      "[0.47650122317240123, 0.28588794168629555]\n",
      "[0.47116323151502293, 0.2454250110352063]\n",
      "[0.4880519495438885, 0.3854277738102522]\n",
      "[0.4751733109371219, 0.2754684920724898]\n",
      "[0.4768010917944425, 0.2882891643478737]\n",
      "[0.4738415020077387, 0.2652357084907109]\n",
      "[0.47654933248198134, 0.28626988261641517]\n",
      "[0.47366519867157664, 0.26390153776080766]\n",
      "[0.47353084186713795, 0.26288519626490947]\n",
      "[0.4814082951905298, 0.3263644997938145]\n",
      "[0.47781017978972157, 0.29641565324255464]\n",
      "[0.4817696727609732, 0.3294717023259798]\n",
      "[0.47655760150347926, 0.2863485424910005]\n",
      "[0.4789935282067939, 0.3060998499817669]\n",
      "[0.48164103884887055, 0.3283381372573901]\n",
      "[0.48377971029012823, 0.3469706163713159]\n",
      "[0.4762593303668867, 0.28398505303634763]\n",
      "[0.47222323774691943, 0.25314806309712184]\n",
      "[0.4818560751767891, 0.3302162614221391]\n",
      "[0.48193899767753956, 0.33093455189884147]\n",
      "[0.4838974739355911, 0.34798428671503173]\n",
      "[0.47678184711194144, 0.28813570855396126]\n",
      "[0.48398041959934723, 0.3487211038027067]\n",
      "[0.4761949176817283, 0.28347876057060306]\n",
      "[0.4783635741708742, 0.300936210121794]\n",
      "[0.4826998512625683, 0.3375091795859981]\n",
      "[0.48450330005339254, 0.35335149543782973]\n",
      "[0.48603712048357145, 0.36705162785396994]\n",
      "[0.4873626323244519, 0.3790957531929594]\n",
      "[0.48590005546574444, 0.365840032417602]\n",
      "[0.47856145245653164, 0.3025348252216005]\n",
      "[0.4759284657450004, 0.2813820948625222]\n",
      "[0.4820725120268245, 0.33206391607769664]\n",
      "[0.47776607930029785, 0.29605040422387746]\n",
      "[0.4862675648885987, 0.36914106976826444]\n",
      "[0.4750741825443367, 0.2746973611669257]\n",
      "[0.4808634024254247, 0.3217536910956528]\n",
      "[0.48364059511263957, 0.3457247725999989]\n",
      "[0.4827868067944443, 0.3382617599628897]\n",
      "[0.47874727560062325, 0.30406325340447865]\n",
      "[0.48480625014702233, 0.35603183069552463]\n",
      "[0.4817367594031383, 0.3291977845136542]\n",
      "[0.48005117759839705, 0.31487729262425007]\n",
      "[0.4858120217571658, 0.36502699012244405]\n",
      "[0.48296845688556683, 0.33985671779470306]\n",
      "[0.4762801569097658, 0.2841652096978832]\n",
      "[0.4788857869013141, 0.305197928568389]\n",
      "[0.47830451042383515, 0.30043490076264096]\n",
      "[0.482424563992062, 0.33511455199482293]\n",
      "[0.47555809932283716, 0.27846442834838236]\n",
      "[0.4817900166443853, 0.32963504523677933]\n",
      "[0.4781478461795461, 0.2991516144322853]\n"
     ]
    }
   ],
   "source": [
    "print(\"Valores Reales\")\n",
    "print(y_test)\n",
    "print()\n",
    "\n",
    "def round(n, decimals=0):\n",
    "    multiplier = 10 ** decimals\n",
    "    return m.floor(n*multiplier + 0.5) / multiplier\n",
    "\n",
    "def predict(X, thetas):\n",
    "    p = []\n",
    "    for k in range(n):\n",
    "        p.append((h(X.Estatura, thetas[k], X.Peso)))\n",
    "    print(p)\n",
    "\n",
    "predicts = []\n",
    "for idx, value in X_test.iterrows():\n",
    "    predicts.append(predict(value, thetas))"
   ]
  },
  {
   "cell_type": "markdown",
   "metadata": {},
   "source": [
    "En esta primera instancia se puede observar que ningun valor pasa de 0.5, el cual es nuestro limite para declarar si la persona es hombre o mujer. Pero se puede observar que los valores se acercan mucho a una prediccion correcta si ser rendondean hacia arriba o abajo.\n",
    "\n",
    "Realizaremos una prueba ajustando los resultados para probar si las predicciones son correctas."
   ]
  },
  {
   "cell_type": "code",
   "execution_count": 23,
   "metadata": {},
   "outputs": [
    {
     "name": "stdout",
     "output_type": "stream",
     "text": [
      "Valores Reales\n",
      "[1 0 1 1 0 0 1 0 1 1 1 1 0 1 0 0 0 0 0 0 0 0 1 0 1 0 1 1 1 1 0 1 0 0 0 1 1\n",
      " 1 1 0 1 0 1 0 0 0 1 0 0 0 0 0 0 0 1 0 0 0 0 0 1 0 0 0 0 0 0 1 1 1 0 0 1 1\n",
      " 0 0 0 0 1 0 1 0 0 1 1 1 1 1 1 0 1 0 1 0 1 1 1 1 1 1 1 1 1 0 0 0 1 0 1 0]\n",
      "\n",
      "Valores Predecidos\n",
      "[1, 0, 1, 1, 0, 1, 1, 0, 1, 1, 1, 1, 0, 1, 0, 1, 0, 0, 0, 0, 0, 0, 0, 0, 0, 0, 1, 1, 1, 1, 0, 1, 0, 0, 0, 1, 1, 1, 1, 0, 1, 0, 0, 1, 0, 0, 1, 0, 0, 0, 0, 0, 0, 0, 0, 0, 0, 0, 0, 0, 1, 0, 0, 0, 0, 0, 0, 1, 0, 1, 0, 0, 1, 1, 0, 0, 1, 1, 1, 0, 1, 0, 0, 1, 1, 1, 1, 1, 0, 0, 1, 0, 1, 0, 1, 1, 1, 0, 1, 1, 1, 1, 1, 0, 0, 0, 1, 0, 1, 0]\n",
      "\n",
      "Accuracy: 89.0909090909091 %\n",
      "\n",
      "Matriz de Prediccion\n",
      "[[54  7]\n",
      " [ 5 44]]\n"
     ]
    }
   ],
   "source": [
    "def round(n, decimals=0):\n",
    "    multiplier = 10 ** decimals\n",
    "    return m.floor(n*multiplier + 0.5) / multiplier\n",
    "\n",
    "def predict_Adj(X, thetas):\n",
    "    p = []\n",
    "    for k in range(n):\n",
    "        p.append((h(X.Estatura, thetas[k], X.Peso) + 0.02))\n",
    "    \n",
    "    ypred = max(p)\n",
    "    if((ypred + 0.5) >= 1.0):\n",
    "        return 1\n",
    "    else:\n",
    "        return 0\n",
    "    \n",
    "predicts = []\n",
    "for idx, value in X_test.iterrows():\n",
    "    predicts.append(predict_Adj(value, thetas))\n",
    "\n",
    "print(\"Valores Reales\")\n",
    "print(y_test)\n",
    "print()\n",
    "print(\"Valores Predecidos\")\n",
    "print(predicts)\n",
    "acc = accuracy_score(predicts, y_test)\n",
    "cm = confusion_matrix(predicts, y_test)\n",
    "print()\n",
    "print('Accuracy:', acc*100, '%')\n",
    "print()\n",
    "print(\"Matriz de Prediccion\")\n",
    "print(cm)"
   ]
  },
  {
   "cell_type": "markdown",
   "metadata": {},
   "source": [
    "Sorpresivamente podemos ver que los resultados son precisos aunque cabe destacar que se realizaron distintas pruebas y el valor de la R^2 oscilo en un rango de 91.88% y 41.81%. El parametro de random_state, a la hora de crear las divisiones, es el responsable de crear estos cambios de precision ya que el modelo tendra que ajustarse a los resultados obtenidos y tomando en cuenta el pequeño margen de error que hay entre la clasificicacion de hombres y mujeres se producen dichos resultados. Podemos anlcar este valor para obtener mejores resultados, en este caso no estamos anclando el random_state por lo que cada vez que se corra obtemndremos valores diferentes."
   ]
  },
  {
   "cell_type": "markdown",
   "metadata": {},
   "source": [
    "## Predicciones\n",
    "Ahora haremos pruebas de predicciones con valores fuera del dataset basados en la tabla del IMC."
   ]
  },
  {
   "cell_type": "code",
   "execution_count": 35,
   "metadata": {},
   "outputs": [
    {
     "name": "stdout",
     "output_type": "stream",
     "text": [
      "Valores Reales\n",
      "0 1 0 1 0 1 0 1 0 1 \n",
      "Valores Predecidos\n",
      "[0, 1, 0, 0, 1, 1, 0, 1, 0, 1]\n",
      "\n",
      "Accuracy: 80.0 %\n",
      "\n",
      "Matriz de Prediccion\n",
      "[[4 1]\n",
      " [1 4]]\n"
     ]
    }
   ],
   "source": [
    "predicciones = {\"Estatura\": [1.68, 1.68, 1.78, 1.78, 1.65, 1.65, 1.73, 1.73, 1.65, 1.65],\n",
    "                \"Peso\": [66.21, 61.83, 73.36, 64.0, 58.33, 52.12, 66.63, 59.42, 64.87, 59.52],\n",
    "                \"Sexo\":[0, 1, 0, 1, 0, 1, 0, 1, 0, 1]}\n",
    "\n",
    "prediccionesDF = pd.DataFrame(predicciones)\n",
    "\n",
    "predicts = []\n",
    "for idx, value in prediccionesDF.iterrows():\n",
    "    predicts.append(predict_Adj(value, thetas))\n",
    "\n",
    "print(\"Valores Reales\")\n",
    "\n",
    "for i in range(len(prediccionesDF.Sexo)):\n",
    "    print(prediccionesDF.Sexo[i], end=\" \")\n",
    "print()\n",
    "print(\"Valores Predecidos\")\n",
    "print(predicts)\n",
    "acc = accuracy_score(predicts, prediccionesDF.Sexo)\n",
    "cm = confusion_matrix(predicts, prediccionesDF.Sexo)\n",
    "print()\n",
    "print('Accuracy:', acc*100, '%')\n",
    "print()\n",
    "print(\"Matriz de Prediccion\")\n",
    "print(cm)"
   ]
  },
  {
   "cell_type": "markdown",
   "metadata": {},
   "source": [
    "## Conclusion\n",
    "\n",
    "En conclusuion el modelo funciona pero sufre de no poder distinguir con mejor precision entre ambas clases lo que lleva a tener que realizar decisiones con muy poco margen de error. Esta es la mayor correccion que se le haria a este modelo."
   ]
  }
 ],
 "metadata": {
  "kernelspec": {
   "display_name": "Python 3.9.9 64-bit",
   "language": "python",
   "name": "python3"
  },
  "language_info": {
   "codemirror_mode": {
    "name": "ipython",
    "version": 3
   },
   "file_extension": ".py",
   "mimetype": "text/x-python",
   "name": "python",
   "nbconvert_exporter": "python",
   "pygments_lexer": "ipython3",
   "version": "3.9.9"
  },
  "orig_nbformat": 4,
  "vscode": {
   "interpreter": {
    "hash": "d5c53819254f5134ae0d57518e7457f435c9aa64aaa2566b3978989478f2f856"
   }
  }
 },
 "nbformat": 4,
 "nbformat_minor": 2
}
